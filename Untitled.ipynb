{
 "cells": [
  {
   "cell_type": "code",
   "execution_count": 2,
   "id": "9b6c1f16-194f-433f-83b2-f5b0361a8464",
   "metadata": {},
   "outputs": [],
   "source": [
    "import imageio"
   ]
  },
  {
   "cell_type": "code",
   "execution_count": 4,
   "id": "0fe54fcf-429f-4f62-b16e-f245060e1156",
   "metadata": {},
   "outputs": [
    {
     "name": "stderr",
     "output_type": "stream",
     "text": [
      "/tmp/ipykernel_15834/1437315200.py:1: DeprecationWarning: Starting with ImageIO v3 the behavior of this function will switch to that of iio.v3.imread. To keep the current behavior (and make this warning disappear) use `import imageio.v2 as imageio` or call `imageio.v2.imread` directly.\n",
      "  data = imageio.imread(\"textures/42.png\")\n"
     ]
    }
   ],
   "source": [
    "data = imageio.imread(\"textures/42.png\")"
   ]
  },
  {
   "cell_type": "code",
   "execution_count": 8,
   "id": "c0e7dc6d-0986-4d7f-8fa1-faa1f943f443",
   "metadata": {},
   "outputs": [],
   "source": [
    "height = data.shape[0]\n",
    "width = data.shape[1]"
   ]
  },
  {
   "cell_type": "code",
   "execution_count": 49,
   "id": "12f1dc05-8430-4b9e-860b-46dc014d65e9",
   "metadata": {},
   "outputs": [],
   "source": [
    "x = -1\n",
    "z = 301"
   ]
  },
  {
   "cell_type": "code",
   "execution_count": 50,
   "id": "38da1860-0173-452d-8e54-6eeca24fe59d",
   "metadata": {},
   "outputs": [],
   "source": [
    "u = (x / width) % 1\n",
    "v = (z / height) % 1"
   ]
  },
  {
   "cell_type": "code",
   "execution_count": 51,
   "id": "38c1039f-fd7b-48c4-80d5-0d19d5a4d969",
   "metadata": {},
   "outputs": [
    {
     "name": "stdout",
     "output_type": "stream",
     "text": [
      "0.9966666666666667 0.009999999999999787\n"
     ]
    }
   ],
   "source": [
    "print(u, v)"
   ]
  },
  {
   "cell_type": "code",
   "execution_count": null,
   "id": "9238ec44-5d52-4baf-aa3a-e9f96ca3d09f",
   "metadata": {},
   "outputs": [],
   "source": []
  }
 ],
 "metadata": {
  "kernelspec": {
   "display_name": "Python 3 (ipykernel)",
   "language": "python",
   "name": "python3"
  },
  "language_info": {
   "codemirror_mode": {
    "name": "ipython",
    "version": 3
   },
   "file_extension": ".py",
   "mimetype": "text/x-python",
   "name": "python",
   "nbconvert_exporter": "python",
   "pygments_lexer": "ipython3",
   "version": "3.10.12"
  }
 },
 "nbformat": 4,
 "nbformat_minor": 5
}
